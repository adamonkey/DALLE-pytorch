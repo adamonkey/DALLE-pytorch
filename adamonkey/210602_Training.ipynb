{
 "cells": [
  {
   "cell_type": "code",
   "execution_count": 1,
   "id": "e2ee5f53",
   "metadata": {
    "collapsed": true,
    "jupyter": {
     "outputs_hidden": true
    }
   },
   "outputs": [
    {
     "name": "stdout",
     "output_type": "stream",
     "text": [
      "Collecting dalle-pytorch\n",
      "  Downloading dalle_pytorch-0.12.5-py3-none-any.whl (1.4 MB)\n",
      "\u001b[K     |████████████████████████████████| 1.4 MB 21.9 MB/s eta 0:00:01\n",
      "\u001b[?25hCollecting wandb\n",
      "  Downloading wandb-0.10.31-py2.py3-none-any.whl (1.8 MB)\n",
      "\u001b[K     |████████████████████████████████| 1.8 MB 107.1 MB/s eta 0:00:01\n",
      "\u001b[?25hRequirement already satisfied: pillow in /home/ec2-user/anaconda3/envs/amazonei_pytorch_latest_p36/lib/python3.6/site-packages (from dalle-pytorch->-r requirements.txt (line 1)) (8.1.0)\n",
      "Requirement already satisfied: transformers in /home/ec2-user/anaconda3/envs/amazonei_pytorch_latest_p36/lib/python3.6/site-packages (from dalle-pytorch->-r requirements.txt (line 1)) (4.5.1)\n",
      "Collecting youtokentome\n",
      "  Downloading youtokentome-1.0.6-cp36-cp36m-manylinux2010_x86_64.whl (1.7 MB)\n",
      "\u001b[K     |████████████████████████████████| 1.7 MB 86.0 MB/s eta 0:00:01\n",
      "\u001b[?25hCollecting taming-transformers\n",
      "  Downloading taming_transformers-0.0.1-py3-none-any.whl (45 kB)\n",
      "\u001b[K     |████████████████████████████████| 45 kB 6.0 MB/s  eta 0:00:01\n",
      "\u001b[?25hCollecting g-mlp-pytorch\n",
      "  Downloading g_mlp_pytorch-0.0.16-py3-none-any.whl (5.2 kB)\n",
      "Collecting torch>=1.6\n",
      "  Downloading torch-1.8.1-cp36-cp36m-manylinux1_x86_64.whl (804.1 MB)\n",
      "\u001b[K     |████████████████▍               | 411.7 MB 111.7 MB/s eta 0:00:04   |▊                               | 16.9 MB 49.3 MB/s eta 0:00:16     |███████████▎                    | 283.4 MB 117.4 MB/s eta 0:00:05"
     ]
    },
    {
     "name": "stderr",
     "output_type": "stream",
     "text": [
      "IOPub data rate exceeded.\n",
      "The notebook server will temporarily stop sending output\n",
      "to the client in order to avoid crashing it.\n",
      "To change this limit, set the config variable\n",
      "`--NotebookApp.iopub_data_rate_limit`.\n",
      "\n",
      "Current values:\n",
      "NotebookApp.iopub_data_rate_limit=1000000.0 (bytes/sec)\n",
      "NotebookApp.rate_limit_window=3.0 (secs)\n",
      "\n"
     ]
    },
    {
     "name": "stdout",
     "output_type": "stream",
     "text": [
      "\u001b[K     |███████████████████████████▎    | 684.3 MB 83.9 MB/s eta 0:00:023     |████████████████████            | 503.1 MB 111.7 MB/s eta 0:00:03"
     ]
    },
    {
     "name": "stderr",
     "output_type": "stream",
     "text": [
      "IOPub data rate exceeded.\n",
      "The notebook server will temporarily stop sending output\n",
      "to the client in order to avoid crashing it.\n",
      "To change this limit, set the config variable\n",
      "`--NotebookApp.iopub_data_rate_limit`.\n",
      "\n",
      "Current values:\n",
      "NotebookApp.iopub_data_rate_limit=1000000.0 (bytes/sec)\n",
      "NotebookApp.rate_limit_window=3.0 (secs)\n",
      "\n"
     ]
    },
    {
     "name": "stdout",
     "output_type": "stream",
     "text": [
      "\u001b[K     |████████████████████████████████| 804.1 MB 5.1 kB/s s eta 0:00:01\n",
      "\u001b[?25hCollecting DALL-E\n",
      "  Downloading DALL_E-0.1-py3-none-any.whl (6.0 kB)\n",
      "Collecting axial-positional-embedding\n",
      "  Downloading axial_positional_embedding-0.2.1.tar.gz (2.6 kB)\n",
      "Requirement already satisfied: regex in /home/ec2-user/anaconda3/envs/amazonei_pytorch_latest_p36/lib/python3.6/site-packages (from dalle-pytorch->-r requirements.txt (line 1)) (2020.11.13)\n",
      "Requirement already satisfied: tqdm in /home/ec2-user/anaconda3/envs/amazonei_pytorch_latest_p36/lib/python3.6/site-packages (from dalle-pytorch->-r requirements.txt (line 1)) (4.56.0)\n",
      "Requirement already satisfied: tokenizers in /home/ec2-user/anaconda3/envs/amazonei_pytorch_latest_p36/lib/python3.6/site-packages (from dalle-pytorch->-r requirements.txt (line 1)) (0.10.2)\n",
      "Collecting ftfy\n",
      "  Downloading ftfy-6.0.3.tar.gz (64 kB)\n",
      "\u001b[K     |████████████████████████████████| 64 kB 143 kB/s  eta 0:00:01\n",
      "\u001b[?25hCollecting einops>=0.3\n",
      "  Downloading einops-0.3.0-py2.py3-none-any.whl (25 kB)\n",
      "Requirement already satisfied: torchvision in /home/ec2-user/anaconda3/envs/amazonei_pytorch_latest_p36/lib/python3.6/site-packages (from dalle-pytorch->-r requirements.txt (line 1)) (0.6.1)\n",
      "Requirement already satisfied: dataclasses in /home/ec2-user/anaconda3/envs/amazonei_pytorch_latest_p36/lib/python3.6/site-packages (from torch>=1.6->dalle-pytorch->-r requirements.txt (line 1)) (0.8)\n",
      "Requirement already satisfied: numpy in /home/ec2-user/anaconda3/envs/amazonei_pytorch_latest_p36/lib/python3.6/site-packages (from torch>=1.6->dalle-pytorch->-r requirements.txt (line 1)) (1.19.2)\n",
      "Requirement already satisfied: typing-extensions in /home/ec2-user/anaconda3/envs/amazonei_pytorch_latest_p36/lib/python3.6/site-packages (from torch>=1.6->dalle-pytorch->-r requirements.txt (line 1)) (3.7.4.3)\n",
      "Collecting subprocess32>=3.5.3\n",
      "  Downloading subprocess32-3.5.4.tar.gz (97 kB)\n",
      "\u001b[K     |████████████████████████████████| 97 kB 678 kB/s  eta 0:00:01\n",
      "\u001b[?25hRequirement already satisfied: python-dateutil>=2.6.1 in /home/ec2-user/anaconda3/envs/amazonei_pytorch_latest_p36/lib/python3.6/site-packages (from wandb->-r requirements.txt (line 2)) (2.8.1)\n",
      "Collecting configparser>=3.8.1\n",
      "  Downloading configparser-5.0.2-py3-none-any.whl (19 kB)\n",
      "Collecting promise<3,>=2.0\n",
      "  Downloading promise-2.3.tar.gz (19 kB)\n",
      "Requirement already satisfied: psutil>=5.0.0 in /home/ec2-user/anaconda3/envs/amazonei_pytorch_latest_p36/lib/python3.6/site-packages (from wandb->-r requirements.txt (line 2)) (5.8.0)\n",
      "Requirement already satisfied: requests<3,>=2.0.0 in /home/ec2-user/anaconda3/envs/amazonei_pytorch_latest_p36/lib/python3.6/site-packages (from wandb->-r requirements.txt (line 2)) (2.25.1)\n",
      "Collecting sentry-sdk>=0.4.0\n",
      "  Downloading sentry_sdk-1.1.0-py2.py3-none-any.whl (131 kB)\n",
      "\u001b[K     |████████████████████████████████| 131 kB 97.2 MB/s eta 0:00:01\n",
      "\u001b[?25hRequirement already satisfied: PyYAML in /home/ec2-user/anaconda3/envs/amazonei_pytorch_latest_p36/lib/python3.6/site-packages (from wandb->-r requirements.txt (line 2)) (5.4.1)\n",
      "Requirement already satisfied: Click>=7.0 in /home/ec2-user/anaconda3/envs/amazonei_pytorch_latest_p36/lib/python3.6/site-packages (from wandb->-r requirements.txt (line 2)) (7.1.2)\n",
      "Collecting shortuuid>=0.5.0\n",
      "  Downloading shortuuid-1.0.1-py3-none-any.whl (7.5 kB)\n",
      "Collecting docker-pycreds>=0.4.0\n",
      "  Downloading docker_pycreds-0.4.0-py2.py3-none-any.whl (9.0 kB)\n",
      "Requirement already satisfied: pathtools in /home/ec2-user/anaconda3/envs/amazonei_pytorch_latest_p36/lib/python3.6/site-packages (from wandb->-r requirements.txt (line 2)) (0.1.2)\n",
      "Requirement already satisfied: six>=1.13.0 in /home/ec2-user/anaconda3/envs/amazonei_pytorch_latest_p36/lib/python3.6/site-packages (from wandb->-r requirements.txt (line 2)) (1.15.0)\n",
      "Requirement already satisfied: protobuf>=3.12.0 in /home/ec2-user/anaconda3/envs/amazonei_pytorch_latest_p36/lib/python3.6/site-packages (from wandb->-r requirements.txt (line 2)) (3.15.8)\n",
      "Collecting GitPython>=1.0.0\n",
      "  Using cached GitPython-3.1.17-py3-none-any.whl (166 kB)\n",
      "Collecting gitdb<5,>=4.0.1\n",
      "  Using cached gitdb-4.0.7-py3-none-any.whl (63 kB)\n",
      "Collecting smmap<5,>=3.0.1\n",
      "  Using cached smmap-4.0.0-py2.py3-none-any.whl (24 kB)\n",
      "Requirement already satisfied: certifi>=2017.4.17 in /home/ec2-user/anaconda3/envs/amazonei_pytorch_latest_p36/lib/python3.6/site-packages (from requests<3,>=2.0.0->wandb->-r requirements.txt (line 2)) (2020.12.5)\n",
      "Requirement already satisfied: idna<3,>=2.5 in /home/ec2-user/anaconda3/envs/amazonei_pytorch_latest_p36/lib/python3.6/site-packages (from requests<3,>=2.0.0->wandb->-r requirements.txt (line 2)) (2.10)\n",
      "Requirement already satisfied: urllib3<1.27,>=1.21.1 in /home/ec2-user/anaconda3/envs/amazonei_pytorch_latest_p36/lib/python3.6/site-packages (from requests<3,>=2.0.0->wandb->-r requirements.txt (line 2)) (1.26.4)\n",
      "Requirement already satisfied: chardet<5,>=3.0.2 in /home/ec2-user/anaconda3/envs/amazonei_pytorch_latest_p36/lib/python3.6/site-packages (from requests<3,>=2.0.0->wandb->-r requirements.txt (line 2)) (3.0.4)\n",
      "Collecting mypy\n",
      "  Downloading mypy-0.812-cp36-cp36m-manylinux2010_x86_64.whl (21.6 MB)\n",
      "\u001b[K     |████████████████████████████████| 21.6 MB 44.7 MB/s eta 0:00:01\n",
      "\u001b[?25hRequirement already satisfied: pytest in /home/ec2-user/anaconda3/envs/amazonei_pytorch_latest_p36/lib/python3.6/site-packages (from DALL-E->dalle-pytorch->-r requirements.txt (line 1)) (6.2.2)\n",
      "Collecting blobfile\n",
      "  Downloading blobfile-0.11.0-py3-none-any.whl (32 kB)\n",
      "Collecting xmltodict~=0.12.0\n",
      "  Downloading xmltodict-0.12.0-py2.py3-none-any.whl (9.2 kB)\n",
      "Requirement already satisfied: filelock~=3.0 in /home/ec2-user/anaconda3/envs/amazonei_pytorch_latest_p36/lib/python3.6/site-packages (from blobfile->DALL-E->dalle-pytorch->-r requirements.txt (line 1)) (3.0.12)\n",
      "Collecting pycryptodomex~=3.8\n",
      "  Downloading pycryptodomex-3.10.1-cp35-abi3-manylinux2010_x86_64.whl (1.9 MB)\n",
      "\u001b[K     |████████████████████████████████| 1.9 MB 66.5 MB/s eta 0:00:01\n",
      "\u001b[?25hRequirement already satisfied: wcwidth in /home/ec2-user/anaconda3/envs/amazonei_pytorch_latest_p36/lib/python3.6/site-packages (from ftfy->dalle-pytorch->-r requirements.txt (line 1)) (0.2.5)\n",
      "Requirement already satisfied: typed-ast<1.5.0,>=1.4.0 in /home/ec2-user/anaconda3/envs/amazonei_pytorch_latest_p36/lib/python3.6/site-packages (from mypy->DALL-E->dalle-pytorch->-r requirements.txt (line 1)) (1.4.2)\n",
      "Collecting mypy-extensions<0.5.0,>=0.4.3\n",
      "  Downloading mypy_extensions-0.4.3-py2.py3-none-any.whl (4.5 kB)\n",
      "Requirement already satisfied: attrs>=19.2.0 in /home/ec2-user/anaconda3/envs/amazonei_pytorch_latest_p36/lib/python3.6/site-packages (from pytest->DALL-E->dalle-pytorch->-r requirements.txt (line 1)) (20.3.0)\n",
      "Requirement already satisfied: iniconfig in /home/ec2-user/anaconda3/envs/amazonei_pytorch_latest_p36/lib/python3.6/site-packages (from pytest->DALL-E->dalle-pytorch->-r requirements.txt (line 1)) (1.1.1)\n",
      "Requirement already satisfied: packaging in /home/ec2-user/anaconda3/envs/amazonei_pytorch_latest_p36/lib/python3.6/site-packages (from pytest->DALL-E->dalle-pytorch->-r requirements.txt (line 1)) (20.9)\n",
      "Requirement already satisfied: pluggy<1.0.0a1,>=0.12 in /home/ec2-user/anaconda3/envs/amazonei_pytorch_latest_p36/lib/python3.6/site-packages (from pytest->DALL-E->dalle-pytorch->-r requirements.txt (line 1)) (0.13.1)\n",
      "Requirement already satisfied: py>=1.8.2 in /home/ec2-user/anaconda3/envs/amazonei_pytorch_latest_p36/lib/python3.6/site-packages (from pytest->DALL-E->dalle-pytorch->-r requirements.txt (line 1)) (1.10.0)\n",
      "Requirement already satisfied: toml in /home/ec2-user/anaconda3/envs/amazonei_pytorch_latest_p36/lib/python3.6/site-packages (from pytest->DALL-E->dalle-pytorch->-r requirements.txt (line 1)) (0.10.1)\n",
      "Requirement already satisfied: importlib-metadata>=0.12 in /home/ec2-user/anaconda3/envs/amazonei_pytorch_latest_p36/lib/python3.6/site-packages (from pytest->DALL-E->dalle-pytorch->-r requirements.txt (line 1)) (2.0.0)\n",
      "Requirement already satisfied: zipp>=0.5 in /home/ec2-user/anaconda3/envs/amazonei_pytorch_latest_p36/lib/python3.6/site-packages (from importlib-metadata>=0.12->pytest->DALL-E->dalle-pytorch->-r requirements.txt (line 1)) (3.4.0)\n",
      "Requirement already satisfied: pyparsing>=2.0.2 in /home/ec2-user/anaconda3/envs/amazonei_pytorch_latest_p36/lib/python3.6/site-packages (from packaging->pytest->DALL-E->dalle-pytorch->-r requirements.txt (line 1)) (2.4.7)\n",
      "Collecting omegaconf>=2.0.0\n",
      "  Downloading omegaconf-2.0.6-py3-none-any.whl (36 kB)\n",
      "Collecting pytorch-lightning>=1.0.8\n",
      "  Downloading pytorch_lightning-1.3.3-py3-none-any.whl (806 kB)\n",
      "\u001b[K     |████████████████████████████████| 806 kB 26.8 MB/s eta 0:00:01\n",
      "\u001b[?25hCollecting pyDeprecate==0.3.0\n",
      "  Downloading pyDeprecate-0.3.0-py3-none-any.whl (10 kB)\n",
      "Collecting fsspec[http]>=2021.4.0\n",
      "  Downloading fsspec-2021.5.0-py3-none-any.whl (111 kB)\n",
      "\u001b[K     |████████████████████████████████| 111 kB 100.4 MB/s eta 0:00:01\n",
      "\u001b[?25hCollecting tensorboard!=2.5.0,>=2.2.0\n",
      "  Downloading tensorboard-2.4.1-py3-none-any.whl (10.6 MB)\n",
      "\u001b[K     |████████████████████████████████| 10.6 MB 53.3 MB/s eta 0:00:01\n",
      "\u001b[?25hCollecting torchmetrics>=0.2.0\n",
      "  Downloading torchmetrics-0.3.2-py3-none-any.whl (274 kB)\n",
      "\u001b[K     |████████████████████████████████| 274 kB 111.6 MB/s eta 0:00:01\n",
      "\u001b[?25hRequirement already satisfied: future>=0.17.1 in /home/ec2-user/anaconda3/envs/amazonei_pytorch_latest_p36/lib/python3.6/site-packages (from pytorch-lightning>=1.0.8->taming-transformers->dalle-pytorch->-r requirements.txt (line 1)) (0.18.2)\n",
      "Requirement already satisfied: aiohttp in /home/ec2-user/anaconda3/envs/amazonei_pytorch_latest_p36/lib/python3.6/site-packages (from fsspec[http]>=2021.4.0->pytorch-lightning>=1.0.8->taming-transformers->dalle-pytorch->-r requirements.txt (line 1)) (3.7.4.post0)\n",
      "Collecting google-auth-oauthlib<0.5,>=0.4.1\n",
      "  Downloading google_auth_oauthlib-0.4.4-py2.py3-none-any.whl (18 kB)\n",
      "Collecting absl-py>=0.4\n",
      "  Downloading absl_py-0.12.0-py3-none-any.whl (129 kB)\n",
      "\u001b[K     |████████████████████████████████| 129 kB 77.7 MB/s eta 0:00:01\n",
      "\u001b[?25hCollecting tensorboard-plugin-wit>=1.6.0\n",
      "  Downloading tensorboard_plugin_wit-1.8.0-py3-none-any.whl (781 kB)\n",
      "\u001b[K     |████████████████████████████████| 781 kB 64.1 MB/s eta 0:00:01\n",
      "\u001b[?25hCollecting google-auth<2,>=1.6.3\n",
      "  Downloading google_auth-1.30.1-py2.py3-none-any.whl (146 kB)\n",
      "\u001b[K     |████████████████████████████████| 146 kB 90.2 MB/s eta 0:00:01\n",
      "\u001b[?25hRequirement already satisfied: setuptools>=41.0.0 in /home/ec2-user/anaconda3/envs/amazonei_pytorch_latest_p36/lib/python3.6/site-packages (from tensorboard!=2.5.0,>=2.2.0->pytorch-lightning>=1.0.8->taming-transformers->dalle-pytorch->-r requirements.txt (line 1)) (49.6.0.post20210108)\n",
      "Requirement already satisfied: wheel>=0.26 in /home/ec2-user/anaconda3/envs/amazonei_pytorch_latest_p36/lib/python3.6/site-packages (from tensorboard!=2.5.0,>=2.2.0->pytorch-lightning>=1.0.8->taming-transformers->dalle-pytorch->-r requirements.txt (line 1)) (0.36.2)\n",
      "Collecting markdown>=2.6.8\n",
      "  Downloading Markdown-3.3.4-py3-none-any.whl (97 kB)\n",
      "\u001b[K     |████████████████████████████████| 97 kB 1.9 MB/s  eta 0:00:01\n",
      "\u001b[?25hRequirement already satisfied: werkzeug>=0.11.15 in /home/ec2-user/anaconda3/envs/amazonei_pytorch_latest_p36/lib/python3.6/site-packages (from tensorboard!=2.5.0,>=2.2.0->pytorch-lightning>=1.0.8->taming-transformers->dalle-pytorch->-r requirements.txt (line 1)) (1.0.1)\n",
      "Collecting grpcio>=1.24.3\n",
      "  Downloading grpcio-1.38.0-cp36-cp36m-manylinux2014_x86_64.whl (4.2 MB)\n",
      "\u001b[K     |████████████████████████████████| 4.2 MB 58.0 MB/s eta 0:00:01\n",
      "\u001b[?25hCollecting pyasn1-modules>=0.2.1\n",
      "  Downloading pyasn1_modules-0.2.8-py2.py3-none-any.whl (155 kB)\n",
      "\u001b[K     |████████████████████████████████| 155 kB 77.3 MB/s eta 0:00:01\n",
      "\u001b[?25hCollecting cachetools<5.0,>=2.0.0\n",
      "  Downloading cachetools-4.2.2-py3-none-any.whl (11 kB)\n",
      "Requirement already satisfied: rsa<5,>=3.1.4 in /home/ec2-user/anaconda3/envs/amazonei_pytorch_latest_p36/lib/python3.6/site-packages (from google-auth<2,>=1.6.3->tensorboard!=2.5.0,>=2.2.0->pytorch-lightning>=1.0.8->taming-transformers->dalle-pytorch->-r requirements.txt (line 1)) (4.7.2)\n",
      "Collecting requests-oauthlib>=0.7.0\n",
      "  Downloading requests_oauthlib-1.3.0-py2.py3-none-any.whl (23 kB)\n",
      "Requirement already satisfied: pyasn1<0.5.0,>=0.4.6 in /home/ec2-user/anaconda3/envs/amazonei_pytorch_latest_p36/lib/python3.6/site-packages (from pyasn1-modules>=0.2.1->google-auth<2,>=1.6.3->tensorboard!=2.5.0,>=2.2.0->pytorch-lightning>=1.0.8->taming-transformers->dalle-pytorch->-r requirements.txt (line 1)) (0.4.8)\n",
      "Collecting oauthlib>=3.0.0\n",
      "  Downloading oauthlib-3.1.1-py2.py3-none-any.whl (146 kB)\n",
      "\u001b[K     |████████████████████████████████| 146 kB 107.8 MB/s eta 0:00:01\n",
      "\u001b[?25hRequirement already satisfied: multidict<7.0,>=4.5 in /home/ec2-user/anaconda3/envs/amazonei_pytorch_latest_p36/lib/python3.6/site-packages (from aiohttp->fsspec[http]>=2021.4.0->pytorch-lightning>=1.0.8->taming-transformers->dalle-pytorch->-r requirements.txt (line 1)) (4.7.6)\n",
      "Requirement already satisfied: idna-ssl>=1.0 in /home/ec2-user/anaconda3/envs/amazonei_pytorch_latest_p36/lib/python3.6/site-packages (from aiohttp->fsspec[http]>=2021.4.0->pytorch-lightning>=1.0.8->taming-transformers->dalle-pytorch->-r requirements.txt (line 1)) (1.1.0)\n",
      "Requirement already satisfied: yarl<2.0,>=1.0 in /home/ec2-user/anaconda3/envs/amazonei_pytorch_latest_p36/lib/python3.6/site-packages (from aiohttp->fsspec[http]>=2021.4.0->pytorch-lightning>=1.0.8->taming-transformers->dalle-pytorch->-r requirements.txt (line 1)) (1.6.3)\n",
      "Requirement already satisfied: async-timeout<4.0,>=3.0 in /home/ec2-user/anaconda3/envs/amazonei_pytorch_latest_p36/lib/python3.6/site-packages (from aiohttp->fsspec[http]>=2021.4.0->pytorch-lightning>=1.0.8->taming-transformers->dalle-pytorch->-r requirements.txt (line 1)) (3.0.1)\n",
      "Collecting torchvision\n",
      "  Downloading torchvision-0.9.1-cp36-cp36m-manylinux1_x86_64.whl (17.4 MB)\n",
      "\u001b[K     |████████████████████████████████| 17.4 MB 26.5 MB/s eta 0:00:01\n",
      "\u001b[?25hRequirement already satisfied: sacremoses in /home/ec2-user/anaconda3/envs/amazonei_pytorch_latest_p36/lib/python3.6/site-packages (from transformers->dalle-pytorch->-r requirements.txt (line 1)) (0.0.45)\n",
      "Requirement already satisfied: joblib in /home/ec2-user/anaconda3/envs/amazonei_pytorch_latest_p36/lib/python3.6/site-packages (from sacremoses->transformers->dalle-pytorch->-r requirements.txt (line 1)) (1.0.1)\n",
      "Building wheels for collected packages: promise, subprocess32, axial-positional-embedding, ftfy\n",
      "  Building wheel for promise (setup.py) ... \u001b[?25ldone\n",
      "\u001b[?25h  Created wheel for promise: filename=promise-2.3-py3-none-any.whl size=21494 sha256=3585f4d2630d9df63d67e7951e4d86c3d814c6a15ec771e28bb4c93633bfdd3c\n",
      "  Stored in directory: /home/ec2-user/.cache/pip/wheels/59/9a/1d/3f1afbbb5122d0410547bf9eb50955f4a7a98e53a6d8b99bd1\n",
      "  Building wheel for subprocess32 (setup.py) ... \u001b[?25ldone\n",
      "\u001b[?25h  Created wheel for subprocess32: filename=subprocess32-3.5.4-py3-none-any.whl size=6488 sha256=b86f2cd072b92d2da84f8e62c0130db81b039ce3e7da3cbedd9b555e07ed8101\n",
      "  Stored in directory: /home/ec2-user/.cache/pip/wheels/44/3a/ab/102386d84fe551b6cedb628ed1e74c5f5be76af8b909aeda09\n",
      "  Building wheel for axial-positional-embedding (setup.py) ... \u001b[?25ldone\n",
      "\u001b[?25h  Created wheel for axial-positional-embedding: filename=axial_positional_embedding-0.2.1-py3-none-any.whl size=2902 sha256=b1410c928e72fa9427f4f1eae872cde06f88abddbec5efaa4191e2a0b8352856\n",
      "  Stored in directory: /home/ec2-user/.cache/pip/wheels/87/1e/cd/b5de135ee3faf0c4c525553227e601b0e7739264014dc3e98f\n",
      "  Building wheel for ftfy (setup.py) ... \u001b[?25ldone\n",
      "\u001b[?25h  Created wheel for ftfy: filename=ftfy-6.0.3-py3-none-any.whl size=41913 sha256=d56694565703feecbd819b183bc70fafcfb01591dbdf4ef33f751cac15d0ca79\n",
      "  Stored in directory: /home/ec2-user/.cache/pip/wheels/ff/2a/24/75041425faf3347ab146a4a3d0484f723b2c44a7966a06e3f0\n",
      "Successfully built promise subprocess32 axial-positional-embedding ftfy\n",
      "Installing collected packages: pyasn1-modules, oauthlib, cachetools, requests-oauthlib, google-auth, torch, tensorboard-plugin-wit, markdown, grpcio, google-auth-oauthlib, fsspec, absl-py, xmltodict, torchmetrics, tensorboard, smmap, pyDeprecate, pycryptodomex, mypy-extensions, torchvision, pytorch-lightning, omegaconf, mypy, gitdb, einops, blobfile, youtokentome, taming-transformers, subprocess32, shortuuid, sentry-sdk, promise, GitPython, g-mlp-pytorch, ftfy, docker-pycreds, DALL-E, configparser, axial-positional-embedding, wandb, dalle-pytorch\n",
      "  Attempting uninstall: torch\n",
      "    Found existing installation: torch 1.5.1\n",
      "    Uninstalling torch-1.5.1:\n",
      "      Successfully uninstalled torch-1.5.1\n",
      "  Attempting uninstall: fsspec\n",
      "    Found existing installation: fsspec 0.8.3\n",
      "    Uninstalling fsspec-0.8.3:\n",
      "      Successfully uninstalled fsspec-0.8.3\n",
      "  Attempting uninstall: torchvision\n",
      "    Found existing installation: torchvision 0.6.1\n",
      "    Uninstalling torchvision-0.6.1:\n",
      "      Successfully uninstalled torchvision-0.6.1\n",
      "\u001b[31mERROR: pip's dependency resolver does not currently take into account all the packages that are installed. This behaviour is the source of the following dependency conflicts.\n",
      "torcheia 1.0.0 requires torch==1.5.1, but you have torch 1.8.1 which is incompatible.\u001b[0m\n",
      "Successfully installed DALL-E-0.1 GitPython-3.1.17 absl-py-0.12.0 axial-positional-embedding-0.2.1 blobfile-0.11.0 cachetools-4.2.2 configparser-5.0.2 dalle-pytorch-0.12.5 docker-pycreds-0.4.0 einops-0.3.0 fsspec-2021.5.0 ftfy-6.0.3 g-mlp-pytorch-0.0.16 gitdb-4.0.7 google-auth-1.30.1 google-auth-oauthlib-0.4.4 grpcio-1.38.0 markdown-3.3.4 mypy-0.812 mypy-extensions-0.4.3 oauthlib-3.1.1 omegaconf-2.0.6 promise-2.3 pyDeprecate-0.3.0 pyasn1-modules-0.2.8 pycryptodomex-3.10.1 pytorch-lightning-1.3.3 requests-oauthlib-1.3.0 sentry-sdk-1.1.0 shortuuid-1.0.1 smmap-4.0.0 subprocess32-3.5.4 taming-transformers-0.0.1 tensorboard-2.4.1 tensorboard-plugin-wit-1.8.0 torch-1.8.1 torchmetrics-0.3.2 torchvision-0.9.1 wandb-0.10.31 xmltodict-0.12.0 youtokentome-1.0.6\n"
     ]
    }
   ],
   "source": [
    "!pip install -r requirements.txt"
   ]
  },
  {
   "cell_type": "code",
   "execution_count": 3,
   "id": "f732e545",
   "metadata": {},
   "outputs": [
    {
     "name": "stdout",
     "output_type": "stream",
     "text": [
      "download: s3://s3illustration/metadata/vqgan.1024.config.yml to ./vqgan.1024.config.yml\n",
      "download: s3://s3illustration/metadata/Validation_GCC-1.1.0-Validation.tsv to ./Validation_GCC-1.1.0-Validation.tsv\n",
      "download: s3://s3illustration/metadata/Train_GCC-training.tsv to ./Train_GCC-training.tsv\n",
      "download: s3://s3illustration/metadata/vqgan.1024.model.ckpt to ./vqgan.1024.model.ckpt\n"
     ]
    }
   ],
   "source": [
    "!aws s3 cp s3://s3illustration/metadata . --recursive"
   ]
  },
  {
   "cell_type": "code",
   "execution_count": 4,
   "id": "e3b73d33",
   "metadata": {},
   "outputs": [],
   "source": [
    "!mv ./vqgan.1024.config.yml ~/.cache/vqgan.1024.config.yml"
   ]
  },
  {
   "cell_type": "code",
   "execution_count": 5,
   "id": "38ff8785",
   "metadata": {},
   "outputs": [],
   "source": [
    "!mv ./vqgan.1024.model.ckpt ~/.cache/vqgan.1024.model.ckpt"
   ]
  },
  {
   "cell_type": "code",
   "execution_count": 6,
   "id": "327b1ad9",
   "metadata": {},
   "outputs": [],
   "source": [
    "import pandas as pd\n",
    "import zlib\n",
    "\n",
    "df = pd.read_csv('Train_GCC-training.tsv', sep='\\t', header=None)\n",
    "df.columns=['caption','url']\n",
    "\n",
    "# for i, row in df.iterrows():\n",
    "#     unique = (zlib.crc32(row['caption'].encode('utf-8')) & 0xffffffff)\n",
    "#     fname = f'{i}_{unique}'"
   ]
  },
  {
   "cell_type": "code",
   "execution_count": 18,
   "id": "86482ffa",
   "metadata": {},
   "outputs": [],
   "source": [
    "df['index'] = df.index"
   ]
  },
  {
   "cell_type": "code",
   "execution_count": 20,
   "id": "70414db7",
   "metadata": {},
   "outputs": [
    {
     "name": "stdout",
     "output_type": "stream",
     "text": [
      "CPU times: user 36.7 s, sys: 668 ms, total: 37.4 s\n",
      "Wall time: 37.4 s\n"
     ]
    }
   ],
   "source": [
    "%%time\n",
    "\n",
    "df['filename'] = df.apply(\n",
    "    lambda row: f\"{row['index']}_{(zlib.crc32(row['url'].encode('utf-8')) & 0xffffffff)}\",\n",
    "    axis=1\n",
    ")"
   ]
  },
  {
   "cell_type": "code",
   "execution_count": 22,
   "id": "cb9300a9",
   "metadata": {},
   "outputs": [],
   "source": [
    "df[['caption', 'filename']].to_csv('Train_GCC-dalle.tsv', sep='\\t', index=False)"
   ]
  },
  {
   "cell_type": "code",
   "execution_count": 25,
   "id": "bc43204f",
   "metadata": {},
   "outputs": [
    {
     "name": "stdout",
     "output_type": "stream",
     "text": [
      "upload: ./Train_GCC-dalle.tsv to s3://s3illustration/metadata/Train_GCC-dalle.tsv\n"
     ]
    }
   ],
   "source": [
    "!aws s3 cp Train_GCC-dalle.tsv s3://s3illustration/metadata/Train_GCC-dalle.tsv"
   ]
  },
  {
   "cell_type": "code",
   "execution_count": 48,
   "id": "d0490f14",
   "metadata": {},
   "outputs": [
    {
     "name": "stdout",
     "output_type": "stream",
     "text": [
      "using pretrained VAE for encoding images to tokens\n",
      "Working with z of shape (1, 256, 16, 16) = 65536 dimensions.\n",
      "loaded pretrained LPIPS loss from taming/modules/autoencoder/lpips/vgg.pth\n",
      "VQLPIPSWithDiscriminator running with hinge loss.\n",
      "Loading training data finished.\n",
      "Creating text_files finished.\n",
      "3318333 image-text pairs found for training\n",
      "Traceback (most recent call last):\n",
      "  File \"../train_dalle.py\", line 282, in <module>\n",
      "    dalle = dalle.cuda()\n",
      "  File \"/home/ec2-user/anaconda3/envs/amazonei_pytorch_latest_p36/lib/python3.6/site-packages/torch/nn/modules/module.py\", line 491, in cuda\n",
      "    return self._apply(lambda t: t.cuda(device))\n",
      "  File \"/home/ec2-user/anaconda3/envs/amazonei_pytorch_latest_p36/lib/python3.6/site-packages/torch/nn/modules/module.py\", line 387, in _apply\n",
      "    module._apply(fn)\n",
      "  File \"/home/ec2-user/anaconda3/envs/amazonei_pytorch_latest_p36/lib/python3.6/site-packages/torch/nn/modules/module.py\", line 409, in _apply\n",
      "    param_applied = fn(param)\n",
      "  File \"/home/ec2-user/anaconda3/envs/amazonei_pytorch_latest_p36/lib/python3.6/site-packages/torch/nn/modules/module.py\", line 491, in <lambda>\n",
      "    return self._apply(lambda t: t.cuda(device))\n",
      "  File \"/home/ec2-user/anaconda3/envs/amazonei_pytorch_latest_p36/lib/python3.6/site-packages/torch/cuda/__init__.py\", line 170, in _lazy_init\n",
      "    torch._C._cuda_init()\n",
      "RuntimeError: No CUDA GPUs are available\n"
     ]
    }
   ],
   "source": [
    "!python ../train_dalle.py --image_text_folder ../adamonkey --taming"
   ]
  },
  {
   "cell_type": "code",
   "execution_count": null,
   "id": "6b4c9e0d",
   "metadata": {},
   "outputs": [],
   "source": []
  }
 ],
 "metadata": {
  "kernelspec": {
   "display_name": "conda_amazonei_pytorch_latest_p36",
   "language": "python",
   "name": "conda_amazonei_pytorch_latest_p36"
  },
  "language_info": {
   "codemirror_mode": {
    "name": "ipython",
    "version": 3
   },
   "file_extension": ".py",
   "mimetype": "text/x-python",
   "name": "python",
   "nbconvert_exporter": "python",
   "pygments_lexer": "ipython3",
   "version": "3.6.13"
  }
 },
 "nbformat": 4,
 "nbformat_minor": 5
}
